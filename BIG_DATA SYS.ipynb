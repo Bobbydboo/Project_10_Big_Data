{
 "cells": [
  {
   "cell_type": "markdown",
   "id": "298f6e26",
   "metadata": {},
   "source": [
    "# Описание проекта\n",
    "В данном проекте необходимо обучить модель линейной регрессии на данных о жилье в Калифорнии в 1990 году. Данный датасет был рассмотрен ранее в четвёртой теме курса. Колонки датасета содержат следующие данные:\n",
    "- longitude — широта;\n",
    "- latitude — долгота;\n",
    "- housing_median_age — медианный возраст жителей жилого массива;\n",
    "- total_rooms — общее количество комнат в домах жилого массива;\n",
    "- total_bedrooms — общее количество спален в домах жилого массива;\n",
    "- population — количество человек, которые проживают в жилом массиве;\n",
    "- households — количество домовладений в жилом массиве;\n",
    "- median_income — медианный доход жителей жилого массива;\n",
    "- median_house_value — медианная стоимость дома в жилом массиве;\n",
    "- ocean_proximity — близость к океану.\n",
    "\n",
    "Задачей является построение модели, которая будет предсказывать медианную стоимость дома в жилом массиве (median_house_value) на основе имеющихся данных. Для оценки качества модели будут использоваться метрики RMSE (Root Mean Squared Error), MAE (Mean Absolute Error) и R2 (коэффициент детерминации).\n",
    "\n",
    "# Инструкция по выполнению проекта\n",
    "Для успешного выполнения проекта следуйте следующим шагам:\n",
    "\n",
    "1. Инициализируйте локальную Spark-сессию.\n",
    "2. Прочитайте содержимое файла /datasets/housing.csv с помощью Spark.\n",
    "3. Выведите типы данных колонок датасета с использованием методов PySpark.\n",
    "4. Выполните предобработку данных, включая обработку пропусков и кодирование категориальных переменных с использованием One-Hot Encoding.\n",
    "5. Постройте две модели линейной регрессии на разных наборах данных:\n",
    "   - Используя все данные из файла;\n",
    "   - Используя только числовые переменные и исключив категориальные.\n",
    "6. Для построения моделей используйте оценщик LinearRegression из библиотеки MLlib.\n",
    "7. Сравните результаты работы линейной регрессии на двух наборах данных по метрикам RMSE, MAE и R2.\n",
    "8. Сделайте выводы на основе результатов сравнения моделей.\n",
    "\n"
   ]
  },
  {
   "cell_type": "markdown",
   "id": "ce9d4ea7",
   "metadata": {},
   "source": [
    "# Импорт "
   ]
  },
  {
   "cell_type": "code",
   "execution_count": 1,
   "id": "9f44072a",
   "metadata": {},
   "outputs": [],
   "source": [
    "#import\n",
    "import pandas as pd\n",
    "import numpy as np\n",
    "from pyspark import SparkConf, SparkContext\n",
    "from pyspark.sql import SparkSession, SQLContext\n",
    "from pyspark.sql.types import *\n",
    "import pyspark.sql.functions as F\n",
    "from pyspark.sql.functions import udf, col\n",
    "from pyspark.sql.functions import col,isnan, when, count\n",
    "\n",
    "from pyspark.ml.regression import LinearRegression\n",
    "from pyspark.mllib.evaluation import RegressionMetrics\n",
    "\n",
    "from pyspark.ml.feature import VectorAssembler, StandardScaler\n",
    "from pyspark.ml.evaluation import RegressionEvaluator\n",
    "\n",
    "from pyspark.ml.feature import OneHotEncoder\n",
    "from pyspark.ml.feature import StringIndexer\n",
    "\n",
    "from pyspark.sql import SparkSession"
   ]
  },
  {
   "cell_type": "code",
   "execution_count": 2,
   "id": "ea0f0cf7",
   "metadata": {},
   "outputs": [],
   "source": [
    "#spark\n",
    "spark  = SparkSession.builder.appName('HousePriceAnalyze').getOrCreate()"
   ]
  },
  {
   "cell_type": "code",
   "execution_count": 3,
   "id": "df92e3ec",
   "metadata": {
    "id": "df92e3ec"
   },
   "outputs": [
    {
     "name": "stderr",
     "output_type": "stream",
     "text": [
      "                                                                                \r"
     ]
    }
   ],
   "source": [
    "data = spark.read.option('header', 'true')\\\n",
    "    .csv('/datasets/housing.csv', inferSchema = True)"
   ]
  },
  {
   "cell_type": "code",
   "execution_count": 4,
   "id": "911279b6",
   "metadata": {},
   "outputs": [
    {
     "name": "stdout",
     "output_type": "stream",
     "text": [
      "+---------+--------+------------------+-----------+--------------+----------+----------+-------------+------------------+---------------+\n",
      "|longitude|latitude|housing_median_age|total_rooms|total_bedrooms|population|households|median_income|median_house_value|ocean_proximity|\n",
      "+---------+--------+------------------+-----------+--------------+----------+----------+-------------+------------------+---------------+\n",
      "|  -122.23|   37.88|              41.0|      880.0|         129.0|     322.0|     126.0|       8.3252|          452600.0|       NEAR BAY|\n",
      "|  -122.22|   37.86|              21.0|     7099.0|        1106.0|    2401.0|    1138.0|       8.3014|          358500.0|       NEAR BAY|\n",
      "|  -122.24|   37.85|              52.0|     1467.0|         190.0|     496.0|     177.0|       7.2574|          352100.0|       NEAR BAY|\n",
      "|  -122.25|   37.85|              52.0|     1274.0|         235.0|     558.0|     219.0|       5.6431|          341300.0|       NEAR BAY|\n",
      "|  -122.25|   37.85|              52.0|     1627.0|         280.0|     565.0|     259.0|       3.8462|          342200.0|       NEAR BAY|\n",
      "|  -122.25|   37.85|              52.0|      919.0|         213.0|     413.0|     193.0|       4.0368|          269700.0|       NEAR BAY|\n",
      "|  -122.25|   37.84|              52.0|     2535.0|         489.0|    1094.0|     514.0|       3.6591|          299200.0|       NEAR BAY|\n",
      "|  -122.25|   37.84|              52.0|     3104.0|         687.0|    1157.0|     647.0|         3.12|          241400.0|       NEAR BAY|\n",
      "|  -122.26|   37.84|              42.0|     2555.0|         665.0|    1206.0|     595.0|       2.0804|          226700.0|       NEAR BAY|\n",
      "|  -122.25|   37.84|              52.0|     3549.0|         707.0|    1551.0|     714.0|       3.6912|          261100.0|       NEAR BAY|\n",
      "+---------+--------+------------------+-----------+--------------+----------+----------+-------------+------------------+---------------+\n",
      "only showing top 10 rows\n",
      "\n"
     ]
    }
   ],
   "source": [
    "data.show(10)"
   ]
  },
  {
   "cell_type": "code",
   "execution_count": 5,
   "id": "348bd917",
   "metadata": {},
   "outputs": [
    {
     "name": "stdout",
     "output_type": "stream",
     "text": [
      "root\n",
      " |-- longitude: double (nullable = true)\n",
      " |-- latitude: double (nullable = true)\n",
      " |-- housing_median_age: double (nullable = true)\n",
      " |-- total_rooms: double (nullable = true)\n",
      " |-- total_bedrooms: double (nullable = true)\n",
      " |-- population: double (nullable = true)\n",
      " |-- households: double (nullable = true)\n",
      " |-- median_income: double (nullable = true)\n",
      " |-- median_house_value: double (nullable = true)\n",
      " |-- ocean_proximity: string (nullable = true)\n",
      "\n"
     ]
    }
   ],
   "source": [
    "data.printSchema()"
   ]
  },
  {
   "cell_type": "code",
   "execution_count": 6,
   "id": "6ded50ff",
   "metadata": {},
   "outputs": [],
   "source": [
    "feature_columns = ['longitude'\n",
    "                   ,'latitude'\n",
    "                   ,'housing_median_age'\n",
    "                   ,'total_rooms'\n",
    "                   ,'total_bedrooms'\n",
    "                   ,'population'\n",
    "                   ,'households'\n",
    "                   ,'median_income'\n",
    "                   ,'median_house_value'\n",
    "                   ,'ocean_proximity']"
   ]
  },
  {
   "cell_type": "code",
   "execution_count": 7,
   "id": "1923e8d6",
   "metadata": {},
   "outputs": [
    {
     "name": "stderr",
     "output_type": "stream",
     "text": [
      "                                                                                \r"
     ]
    },
    {
     "name": "stdout",
     "output_type": "stream",
     "text": [
      "+-------+-------------------+-----------------+------------------+------------------+------------------+------------------+-----------------+------------------+------------------+---------------+\n",
      "|summary|longitude          |latitude         |housing_median_age|total_rooms       |total_bedrooms    |population        |households       |median_income     |median_house_value|ocean_proximity|\n",
      "+-------+-------------------+-----------------+------------------+------------------+------------------+------------------+-----------------+------------------+------------------+---------------+\n",
      "|count  |20640              |20640            |20640             |20640             |20433             |20640             |20640            |20640             |20640             |20640          |\n",
      "|mean   |-119.56970445736148|35.6318614341087 |28.639486434108527|2635.7630813953488|537.8705525375618 |1425.4767441860465|499.5396802325581|3.8706710029070246|206855.81690891474|null           |\n",
      "|stddev |2.003531723502584  |2.135952397457101|12.58555761211163 |2181.6152515827944|421.38507007403115|1132.46212176534  |382.3297528316098|1.899821717945263 |115395.61587441359|null           |\n",
      "|min    |-124.35            |32.54            |1.0               |2.0               |1.0               |3.0               |1.0              |0.4999            |14999.0           |<1H OCEAN      |\n",
      "|max    |-114.31            |41.95            |52.0              |39320.0           |6445.0            |35682.0           |6082.0           |15.0001           |500001.0          |NEAR OCEAN     |\n",
      "+-------+-------------------+-----------------+------------------+------------------+------------------+------------------+-----------------+------------------+------------------+---------------+\n",
      "\n"
     ]
    }
   ],
   "source": [
    "data.describe().show(10, False)"
   ]
  },
  {
   "cell_type": "code",
   "execution_count": 8,
   "id": "b3e31a9b",
   "metadata": {
    "scrolled": true
   },
   "outputs": [
    {
     "data": {
      "text/html": [
       "<div>\n",
       "<style scoped>\n",
       "    .dataframe tbody tr th:only-of-type {\n",
       "        vertical-align: middle;\n",
       "    }\n",
       "\n",
       "    .dataframe tbody tr th {\n",
       "        vertical-align: top;\n",
       "    }\n",
       "\n",
       "    .dataframe thead th {\n",
       "        text-align: right;\n",
       "    }\n",
       "</style>\n",
       "<table border=\"1\" class=\"dataframe\">\n",
       "  <thead>\n",
       "    <tr style=\"text-align: right;\">\n",
       "      <th></th>\n",
       "      <th>Name</th>\n",
       "      <th>Type</th>\n",
       "    </tr>\n",
       "  </thead>\n",
       "  <tbody>\n",
       "    <tr>\n",
       "      <th>0</th>\n",
       "      <td>longitude</td>\n",
       "      <td>double</td>\n",
       "    </tr>\n",
       "    <tr>\n",
       "      <th>1</th>\n",
       "      <td>latitude</td>\n",
       "      <td>double</td>\n",
       "    </tr>\n",
       "    <tr>\n",
       "      <th>2</th>\n",
       "      <td>housing_median_age</td>\n",
       "      <td>double</td>\n",
       "    </tr>\n",
       "    <tr>\n",
       "      <th>3</th>\n",
       "      <td>total_rooms</td>\n",
       "      <td>double</td>\n",
       "    </tr>\n",
       "    <tr>\n",
       "      <th>4</th>\n",
       "      <td>total_bedrooms</td>\n",
       "      <td>double</td>\n",
       "    </tr>\n",
       "    <tr>\n",
       "      <th>5</th>\n",
       "      <td>population</td>\n",
       "      <td>double</td>\n",
       "    </tr>\n",
       "    <tr>\n",
       "      <th>6</th>\n",
       "      <td>households</td>\n",
       "      <td>double</td>\n",
       "    </tr>\n",
       "    <tr>\n",
       "      <th>7</th>\n",
       "      <td>median_income</td>\n",
       "      <td>double</td>\n",
       "    </tr>\n",
       "    <tr>\n",
       "      <th>8</th>\n",
       "      <td>median_house_value</td>\n",
       "      <td>double</td>\n",
       "    </tr>\n",
       "    <tr>\n",
       "      <th>9</th>\n",
       "      <td>ocean_proximity</td>\n",
       "      <td>string</td>\n",
       "    </tr>\n",
       "  </tbody>\n",
       "</table>\n",
       "</div>"
      ],
      "text/plain": [
       "                 Name    Type\n",
       "0           longitude  double\n",
       "1            latitude  double\n",
       "2  housing_median_age  double\n",
       "3         total_rooms  double\n",
       "4      total_bedrooms  double\n",
       "5          population  double\n",
       "6          households  double\n",
       "7       median_income  double\n",
       "8  median_house_value  double\n",
       "9     ocean_proximity  string"
      ]
     },
     "execution_count": 8,
     "metadata": {},
     "output_type": "execute_result"
    }
   ],
   "source": [
    "pd.DataFrame(data.dtypes, columns = ['Name', 'Type'])"
   ]
  },
  {
   "cell_type": "markdown",
   "id": "b2c67fff",
   "metadata": {},
   "source": [
    "# Подготовка данных"
   ]
  },
  {
   "cell_type": "code",
   "execution_count": 9,
   "id": "ae2453e7",
   "metadata": {},
   "outputs": [
    {
     "name": "stdout",
     "output_type": "stream",
     "text": [
      "longitude 0 0\n",
      "latitude 0 0\n",
      "housing_median_age 0 0\n",
      "total_rooms 0 0\n",
      "total_bedrooms 207 207\n",
      "population 0 0\n",
      "households 0 0\n",
      "median_income 0 0\n",
      "median_house_value 0 0\n",
      "ocean_proximity 0 0\n"
     ]
    }
   ],
   "source": [
    "#Проверка на наличие пропусков \n",
    "for column in data.columns:\n",
    "    count_of_nulls = data.filter(col(column).isNull() | isnan(col(column))).count()\n",
    "    print(column, count_of_nulls, count_of_nulls)"
   ]
  },
  {
   "cell_type": "markdown",
   "id": "4e53c54a",
   "metadata": {},
   "source": [
    "Пропуски в поле total_bedrooms 207 шт"
   ]
  },
  {
   "cell_type": "code",
   "execution_count": 10,
   "id": "f956b1df",
   "metadata": {},
   "outputs": [],
   "source": [
    "#Заполним единицами, так как как минимум одна кровать будет \n",
    "data = data.na.fill(value=1,subset=[\"total_bedrooms\"])"
   ]
  },
  {
   "cell_type": "code",
   "execution_count": 11,
   "id": "027a8db7",
   "metadata": {},
   "outputs": [
    {
     "name": "stdout",
     "output_type": "stream",
     "text": [
      "<class 'pandas.core.frame.DataFrame'>\n",
      "RangeIndex: 20640 entries, 0 to 20639\n",
      "Data columns (total 10 columns):\n",
      " #   Column              Non-Null Count  Dtype  \n",
      "---  ------              --------------  -----  \n",
      " 0   longitude           20640 non-null  float64\n",
      " 1   latitude            20640 non-null  float64\n",
      " 2   housing_median_age  20640 non-null  float64\n",
      " 3   total_rooms         20640 non-null  float64\n",
      " 4   total_bedrooms      20640 non-null  float64\n",
      " 5   population          20640 non-null  float64\n",
      " 6   households          20640 non-null  float64\n",
      " 7   median_income       20640 non-null  float64\n",
      " 8   median_house_value  20640 non-null  float64\n",
      " 9   ocean_proximity     20640 non-null  object \n",
      "dtypes: float64(9), object(1)\n",
      "memory usage: 1.6+ MB\n"
     ]
    }
   ],
   "source": [
    "data.select(feature_columns).toPandas().info()"
   ]
  },
  {
   "cell_type": "markdown",
   "id": "65cab1da",
   "metadata": {},
   "source": [
    "# Промежуточный вывод 1\n",
    "\n",
    "Проанализировал данные датасет. Обнаружены и заполнены пропуски в аттрибуте 'total_bedrooms'"
   ]
  },
  {
   "cell_type": "markdown",
   "id": "9f0a82f3",
   "metadata": {
    "id": "9f0a82f3"
   },
   "source": [
    "# Обучение моделей"
   ]
  },
  {
   "cell_type": "code",
   "execution_count": 12,
   "id": "d6d7e88f",
   "metadata": {},
   "outputs": [
    {
     "name": "stderr",
     "output_type": "stream",
     "text": [
      "                                                                                \r"
     ]
    }
   ],
   "source": [
    "train_data, test_data = data.randomSplit([0.75, 0.25], 12345)\n",
    "\n",
    "sIndexer = StringIndexer(inputCol='ocean_proximity', outputCol='ocean_proximity_ind', handleInvalid='skip')\n",
    "ohEncoder = OneHotEncoder(inputCol=\"ocean_proximity_ind\", outputCol=\"ocean_proximity_index\") \n",
    "\n",
    "sIndexer_fitted = sIndexer.fit(train_data)\n",
    "train_data = sIndexer_fitted.transform(train_data)\n",
    "test_data = sIndexer_fitted.transform(test_data)\n",
    "\n",
    "fitted_ohe = ohEncoder.fit(train_data)\n",
    "\n",
    "train_data = fitted_ohe.transform(train_data)\n",
    "test_data = fitted_ohe.transform(test_data)\n",
    "\n",
    "train_data = train_data.drop('ocean_proximity')\n",
    "test_data = test_data.drop('ocean_proximity')"
   ]
  },
  {
   "cell_type": "markdown",
   "id": "622fde58",
   "metadata": {},
   "source": [
    "\n",
    "<div class=\"alert alert-block alert-info\">\n",
    "<b>Совет: </b>В идеале обучение OneHotEncoder и других трансформеров (включая StringIndexer и StandardScaler...) через fit должно производиться на обучающей выборке, а не на всей. Так будет предотвращена утечка данных (из теста в трейн). В твоем случае разбиение на выборки происходит после их обучения. Получается, что модель ещё до обучения немного заглядывает в тестовую выборку (условно из будущего).\n",
    "    \n",
    "Нужно разбить датасет на две выборки: обучающую и тестовую. Вызов fit допустим только для обучающей, transform - для обеих. Так будет предотвращено переобучение моделя. Но полагаться на случай мы не можем. Поэтому должны использовать две выборки и предотвращать утечку. Если у тебя остаются вопросы, не стесняйся, пожалуйста, задать их в Пачке преподавателю. Тема утечки очень часто поднимается на собеседованиях.\n",
    "</div>\n"
   ]
  },
  {
   "cell_type": "markdown",
   "id": "42d3c538",
   "metadata": {},
   "source": [
    "# Промежуточный вывод 2 "
   ]
  },
  {
   "cell_type": "markdown",
   "id": "6931fc18",
   "metadata": {
    "id": "bddb08c4"
   },
   "source": [
    "Категориальный признак ocean_proximity был закодирован с помощью OneHotEncoder и добавлен в датасет, как 'ocean_proximity_index'"
   ]
  },
  {
   "cell_type": "code",
   "execution_count": 13,
   "id": "e8e59de8",
   "metadata": {},
   "outputs": [
    {
     "name": "stderr",
     "output_type": "stream",
     "text": [
      "                                                                                \r"
     ]
    }
   ],
   "source": [
    "feature_assembly = VectorAssembler(inputCols = [  'longitude'\n",
    "                                                , 'latitude'\n",
    "                                                , 'housing_median_age'\n",
    "                                                , 'total_rooms'\n",
    "                                                , 'total_bedrooms'\n",
    "                                                , 'population'\n",
    "                                                , 'households'\n",
    "                                                , 'median_income']\n",
    "                                    , outputCol = 'features')\n",
    "train_data = feature_assembly.transform(train_data)\n",
    "test_data = feature_assembly.transform(test_data)\n",
    "\n",
    "scaler = StandardScaler(inputCol=\"features\", outputCol=\"scaled_features\", withStd=True, withMean=False)\n",
    "scalerData = scaler.fit(train_data)\n",
    "\n",
    "train_data = scalerData.transform(train_data)\n",
    "test_data = scalerData.transform(test_data)"
   ]
  },
  {
   "cell_type": "code",
   "execution_count": 14,
   "id": "d2ad920a",
   "metadata": {},
   "outputs": [
    {
     "name": "stderr",
     "output_type": "stream",
     "text": [
      "23/12/07 09:45:24 WARN Instrumentation: [ad0eff08] regParam is zero, which might cause numerical instability and overfitting.\n",
      "23/12/07 09:45:24 WARN BLAS: Failed to load implementation from: com.github.fommil.netlib.NativeSystemBLAS\n",
      "23/12/07 09:45:24 WARN BLAS: Failed to load implementation from: com.github.fommil.netlib.NativeRefBLAS\n",
      "23/12/07 09:45:24 WARN LAPACK: Failed to load implementation from: com.github.fommil.netlib.NativeSystemLAPACK\n",
      "23/12/07 09:45:24 WARN LAPACK: Failed to load implementation from: com.github.fommil.netlib.NativeRefLAPACK\n",
      "                                                                                \r"
     ]
    },
    {
     "name": "stdout",
     "output_type": "stream",
     "text": [
      "\n",
      "Scores on train dataset for model with numeric features only\n"
     ]
    },
    {
     "name": "stderr",
     "output_type": "stream",
     "text": [
      "                                                                                \r"
     ]
    },
    {
     "name": "stdout",
     "output_type": "stream",
     "text": [
      "MAE score on train dataset is: 51437.035618\n",
      "R2 score on train dataset is: 0.628248\n",
      "RMSE score on train dataset is: 70262.489470\n",
      "\n",
      "Scores on test dataset for model with numeric features only\n",
      "MAE score on test dataset is: 50298.380008\n",
      "R2 score on test dataset is: 0.652517\n",
      "RMSE score on test dataset is: 68287.493740\n"
     ]
    }
   ],
   "source": [
    "lmodel = LinearRegression(featuresCol = 'scaled_features', labelCol = 'median_house_value')\n",
    "lregressor = lmodel.fit(train_data)\n",
    "\n",
    "print()\n",
    "print(\"Scores on train dataset for model with numeric features only\")\n",
    "train_pred_results = lregressor.evaluate(train_data)\n",
    "print(\"MAE score on train dataset is: %2f\"% train_pred_results.meanAbsoluteError)\n",
    "print(\"R2 score on train dataset is: %2f\"% train_pred_results.r2)\n",
    "print(\"RMSE score on train dataset is: %2f\"% train_pred_results.rootMeanSquaredError)\n",
    "\n",
    "print()\n",
    "print(\"Scores on test dataset for model with numeric features only\")\n",
    "test_pred_results = lregressor.evaluate(test_data)\n",
    "print(\"MAE score on test dataset is: %2f\"% test_pred_results.meanAbsoluteError)\n",
    "print(\"R2 score on test dataset is: %2f\"% test_pred_results.r2)\n",
    "print(\"RMSE score on test dataset is: %2f\"% test_pred_results.rootMeanSquaredError)"
   ]
  },
  {
   "cell_type": "code",
   "execution_count": 15,
   "id": "512d18b6",
   "metadata": {},
   "outputs": [],
   "source": [
    "category_feature_assembly = VectorAssembler(\n",
    "    inputCols=[\"scaled_features\", \"ocean_proximity_index\"],\n",
    "    outputCol=\"features_with_categorial\")\n",
    "\n",
    "train_data = category_feature_assembly.transform(train_data)\n",
    "test_data = category_feature_assembly.transform(test_data)"
   ]
  },
  {
   "cell_type": "code",
   "execution_count": 16,
   "id": "ba59d62f",
   "metadata": {},
   "outputs": [
    {
     "name": "stderr",
     "output_type": "stream",
     "text": [
      "23/12/07 09:45:30 WARN Instrumentation: [5a315a24] regParam is zero, which might cause numerical instability and overfitting.\n",
      "                                                                                \r"
     ]
    },
    {
     "name": "stdout",
     "output_type": "stream",
     "text": [
      "\n",
      "Scores on train dataset for model with category features\n"
     ]
    },
    {
     "name": "stderr",
     "output_type": "stream",
     "text": [
      "                                                                                \r"
     ]
    },
    {
     "name": "stdout",
     "output_type": "stream",
     "text": [
      "MAE score on train dataset is: 50334.583039\n",
      "R2 score on train dataset is: 0.638080\n",
      "RMSE score on train dataset is: 70262.489470\n",
      "\n",
      "Scores on test dataset for model with category features\n",
      "MAE score on test dataset is: 49066.207802\n",
      "R2 score on test dataset is: 0.663423\n",
      "RMSE score on test dataset is: 67207.344611\n"
     ]
    }
   ],
   "source": [
    "lmodelv2 = LinearRegression(featuresCol = 'features_with_categorial', labelCol = 'median_house_value')\n",
    "lregressorv2 = lmodelv2.fit(train_data)\n",
    "\n",
    "print()\n",
    "print(\"Scores on train dataset for model with category features\")\n",
    "train_pred_results_v2 = lregressorv2.evaluate(train_data)\n",
    "print(\"MAE score on train dataset is: %2f\"% train_pred_results_v2.meanAbsoluteError)\n",
    "print(\"R2 score on train dataset is: %2f\"% train_pred_results_v2.r2)\n",
    "print(\"RMSE score on train dataset is: %2f\"% train_pred_results.rootMeanSquaredError)\n",
    "\n",
    "print()\n",
    "print(\"Scores on test dataset for model with category features\")\n",
    "test_pred_results_v2 = lregressorv2.evaluate(test_data)\n",
    "print(\"MAE score on test dataset is: %2f\"% test_pred_results_v2.meanAbsoluteError)\n",
    "print(\"R2 score on test dataset is: %2f\"% test_pred_results_v2.r2)\n",
    "print(\"RMSE score on test dataset is: %2f\"% test_pred_results_v2.rootMeanSquaredError)"
   ]
  },
  {
   "cell_type": "code",
   "execution_count": 17,
   "id": "c9403aeb",
   "metadata": {},
   "outputs": [],
   "source": [
    "spark.stop()"
   ]
  },
  {
   "cell_type": "markdown",
   "id": "7947ad67",
   "metadata": {},
   "source": [
    "# Анализ результатов"
   ]
  },
  {
   "cell_type": "markdown",
   "id": "87425608",
   "metadata": {},
   "source": [
    "# Итоговый вывод\n",
    "\n",
    "В ходе анализа предоставленного датасета '/datasets/housing.csv' были проведены следующие шаги:\n",
    "\n",
    "1. Обнаружены пропуски в числовом атрибуте 'total_bedrooms', которые были заполнены дефолтным значением '1'.\n",
    "\n",
    "2. Категориальный атрибут 'ocean_proximity' со значениями [ISLAND, NEAR OCEAN, NEAR BAY, <1H OCEAN, INLAND] был преобразован для использования в модели. Для этой цели были использованы StringIndexer и OneHotEncoder для трансформации категориального атрибута в числовой формат.\n",
    "\n",
    "Далее были обучены две модели линейной регрессии:\n",
    "\n",
    "### Первая модель, обученная только на числовых атрибутах:\n",
    "\n",
    "Результаты на обучающей и тестовой выборках:\n",
    "\n",
    "- MAE (Mean Absolute Error) на обучающей выборке: 51437.04\n",
    "- R2 (коэффициент детерминации) на обучающей выборке: 0.6282\n",
    "- RMSE (Root Mean Squared Error) на обучающей выборке: 70262.49\n",
    "\n",
    "- MAE (Mean Absolute Error) на тестовой выборке: 50298.38\n",
    "- R2 (коэффициент детерминации) на тестовой выборке: 0.6525\n",
    "- RMSE (Root Mean Squared Error) на тестовой выборке: 68287.49\n",
    "\n",
    "### Вторая модель, обученная на всех доступных атрибутах, включая категориальные:\n",
    "\n",
    "Результаты на обучающей и тестовой выборках:\n",
    "\n",
    "- MAE (Mean Absolute Error) на обучающей выборке: 50334.58\n",
    "- R2 (коэффициент детерминации) на обучающей выборке: 0.6381\n",
    "- RMSE (Root Mean Squared Error) на обучающей выборке: 70262.49\n",
    "\n",
    "- MAE (Mean Absolute Error) на тестовой выборке: 49066.21\n",
    "- R2 (коэффициент детерминации) на тестовой выборке: 0.6634\n",
    "- RMSE (Root Mean Squared Error) на тестовой выборке: 67207.34\n",
    "\n",
    "В заключение, обученные модели линейной регрессии не позволяют сделать точные прогнозы и требуют дополнительных исследований и улучшений для увеличения качества предсказаний. Данная работа может быть использована как отправная точка для дальнейших исследований и разработки более точных моделей."
   ]
  }
 ],
 "metadata": {
  "ExecuteTimeLog": [
   {
    "duration": 696,
    "start_time": "2023-12-07T09:14:04.849Z"
   },
   {
    "duration": 14633,
    "start_time": "2023-12-07T09:15:08.466Z"
   },
   {
    "duration": 7728,
    "start_time": "2023-12-07T09:15:23.102Z"
   },
   {
    "duration": 597,
    "start_time": "2023-12-07T09:15:30.832Z"
   },
   {
    "duration": 13,
    "start_time": "2023-12-07T09:16:14.209Z"
   },
   {
    "duration": 3,
    "start_time": "2023-12-07T09:16:23.554Z"
   },
   {
    "duration": 3960,
    "start_time": "2023-12-07T09:16:35.848Z"
   },
   {
    "duration": 39,
    "start_time": "2023-12-07T09:17:00.971Z"
   },
   {
    "duration": 3,
    "start_time": "2023-12-07T09:17:27.985Z"
   },
   {
    "duration": 4015,
    "start_time": "2023-12-07T09:19:17.486Z"
   },
   {
    "duration": 424,
    "start_time": "2023-12-07T09:21:36.679Z"
   },
   {
    "duration": 73,
    "start_time": "2023-12-07T09:22:19.827Z"
   },
   {
    "duration": 608,
    "start_time": "2023-12-07T09:22:25.227Z"
   },
   {
    "duration": 1137,
    "start_time": "2023-12-07T09:23:08.062Z"
   },
   {
    "duration": 2329,
    "start_time": "2023-12-07T09:25:03.515Z"
   },
   {
    "duration": 809,
    "start_time": "2023-12-07T09:29:39.630Z"
   },
   {
    "duration": 707,
    "start_time": "2023-12-07T09:30:25.146Z"
   },
   {
    "duration": 16388,
    "start_time": "2023-12-07T09:30:25.855Z"
   },
   {
    "duration": 9486,
    "start_time": "2023-12-07T09:30:42.245Z"
   },
   {
    "duration": 972,
    "start_time": "2023-12-07T09:30:51.734Z"
   },
   {
    "duration": 29,
    "start_time": "2023-12-07T09:30:52.708Z"
   },
   {
    "duration": 63,
    "start_time": "2023-12-07T09:30:52.739Z"
   },
   {
    "duration": 4920,
    "start_time": "2023-12-07T09:30:52.807Z"
   },
   {
    "duration": 125,
    "start_time": "2023-12-07T09:30:57.730Z"
   },
   {
    "duration": 4292,
    "start_time": "2023-12-07T09:30:57.857Z"
   },
   {
    "duration": 88,
    "start_time": "2023-12-07T09:31:02.152Z"
   },
   {
    "duration": 1375,
    "start_time": "2023-12-07T09:31:02.242Z"
   },
   {
    "duration": 2683,
    "start_time": "2023-12-07T09:31:03.619Z"
   },
   {
    "duration": 1768,
    "start_time": "2023-12-07T09:32:53.365Z"
   },
   {
    "duration": 5711,
    "start_time": "2023-12-07T09:33:20.612Z"
   },
   {
    "duration": 68,
    "start_time": "2023-12-07T09:37:32.731Z"
   },
   {
    "duration": 5588,
    "start_time": "2023-12-07T09:38:03.429Z"
   },
   {
    "duration": 354,
    "start_time": "2023-12-07T09:38:55.908Z"
   },
   {
    "duration": 5,
    "start_time": "2023-12-07T09:39:01.077Z"
   },
   {
    "duration": 680,
    "start_time": "2023-12-07T09:42:56.565Z"
   },
   {
    "duration": 15471,
    "start_time": "2023-12-07T09:42:57.247Z"
   },
   {
    "duration": 8898,
    "start_time": "2023-12-07T09:43:12.720Z"
   },
   {
    "duration": 786,
    "start_time": "2023-12-07T09:43:21.620Z"
   },
   {
    "duration": 15,
    "start_time": "2023-12-07T09:43:22.409Z"
   },
   {
    "duration": 74,
    "start_time": "2023-12-07T09:43:22.425Z"
   },
   {
    "duration": 4405,
    "start_time": "2023-12-07T09:43:22.501Z"
   },
   {
    "duration": 98,
    "start_time": "2023-12-07T09:43:26.908Z"
   },
   {
    "duration": 4510,
    "start_time": "2023-12-07T09:43:27.008Z"
   },
   {
    "duration": 92,
    "start_time": "2023-12-07T09:43:31.521Z"
   },
   {
    "duration": 1186,
    "start_time": "2023-12-07T09:43:31.615Z"
   },
   {
    "duration": 2334,
    "start_time": "2023-12-07T09:43:32.804Z"
   },
   {
    "duration": 1694,
    "start_time": "2023-12-07T09:43:35.139Z"
   },
   {
    "duration": 6102,
    "start_time": "2023-12-07T09:43:36.836Z"
   },
   {
    "duration": 535,
    "start_time": "2023-12-07T09:43:43.000Z"
   },
   {
    "duration": 88,
    "start_time": "2023-12-07T09:43:43.537Z"
   },
   {
    "duration": 0,
    "start_time": "2023-12-07T09:43:43.626Z"
   },
   {
    "duration": 0,
    "start_time": "2023-12-07T09:43:43.627Z"
   },
   {
    "duration": 725,
    "start_time": "2023-12-07T09:44:22.574Z"
   },
   {
    "duration": 15933,
    "start_time": "2023-12-07T09:44:23.302Z"
   },
   {
    "duration": 717,
    "start_time": "2023-12-07T09:44:41.424Z"
   },
   {
    "duration": 16104,
    "start_time": "2023-12-07T09:44:42.143Z"
   },
   {
    "duration": 9267,
    "start_time": "2023-12-07T09:44:58.249Z"
   },
   {
    "duration": 697,
    "start_time": "2023-12-07T09:45:07.518Z"
   },
   {
    "duration": 13,
    "start_time": "2023-12-07T09:45:08.217Z"
   },
   {
    "duration": 8,
    "start_time": "2023-12-07T09:45:08.231Z"
   },
   {
    "duration": 4608,
    "start_time": "2023-12-07T09:45:08.299Z"
   },
   {
    "duration": 39,
    "start_time": "2023-12-07T09:45:12.909Z"
   },
   {
    "duration": 4452,
    "start_time": "2023-12-07T09:45:12.950Z"
   },
   {
    "duration": 96,
    "start_time": "2023-12-07T09:45:17.411Z"
   },
   {
    "duration": 1221,
    "start_time": "2023-12-07T09:45:17.509Z"
   },
   {
    "duration": 2805,
    "start_time": "2023-12-07T09:45:18.732Z"
   },
   {
    "duration": 1766,
    "start_time": "2023-12-07T09:45:21.538Z"
   },
   {
    "duration": 6435,
    "start_time": "2023-12-07T09:45:23.306Z"
   },
   {
    "duration": 156,
    "start_time": "2023-12-07T09:45:29.742Z"
   },
   {
    "duration": 5212,
    "start_time": "2023-12-07T09:45:29.901Z"
   },
   {
    "duration": 325,
    "start_time": "2023-12-07T09:45:35.115Z"
   },
   {
    "duration": 3,
    "start_time": "2023-12-07T09:49:04.959Z"
   }
  ],
  "colab": {
   "name": "PySparkSprint.ipynb",
   "provenance": []
  },
  "hide_input": false,
  "kernelspec": {
   "display_name": "Python 3 (ipykernel)",
   "language": "python",
   "name": "python3"
  },
  "language_info": {
   "codemirror_mode": {
    "name": "ipython",
    "version": 3
   },
   "file_extension": ".py",
   "mimetype": "text/x-python",
   "name": "python",
   "nbconvert_exporter": "python",
   "pygments_lexer": "ipython3",
   "version": "3.9.7"
  },
  "toc": {
   "base_numbering": 1,
   "nav_menu": {},
   "number_sections": true,
   "sideBar": true,
   "skip_h1_title": true,
   "title_cell": "Table of Contents",
   "title_sidebar": "Contents",
   "toc_cell": false,
   "toc_position": {},
   "toc_section_display": true,
   "toc_window_display": false
  }
 },
 "nbformat": 4,
 "nbformat_minor": 5
}
